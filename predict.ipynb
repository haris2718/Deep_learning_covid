{
  "nbformat": 4,
  "nbformat_minor": 0,
  "metadata": {
    "colab": {
      "provenance": [],
      "gpuType": "T4"
    },
    "kernelspec": {
      "name": "python3",
      "display_name": "Python 3"
    },
    "language_info": {
      "name": "python"
    },
    "accelerator": "GPU"
  },
  "cells": [
    {
      "cell_type": "code",
      "source": [
        "import keras\n",
        "import tensorflow as tf\n",
        "from tensorflow.keras.utils import plot_model\n",
        "from tensorflow.keras.layers import Dense, Conv2D, BatchNormalization, Activation, Concatenate, AveragePooling2D, Input, Flatten ,MaxPool2D\n",
        "from tensorflow.keras.optimizers import Adam\n",
        "from tensorflow.keras.callbacks import ModelCheckpoint, LearningRateScheduler\n",
        "from tensorflow.keras.callbacks import ReduceLROnPlateau\n",
        "from keras.preprocessing.image import ImageDataGenerator\n",
        "from tensorflow.keras.regularizers import l2\n",
        "from tensorflow.keras import backend as K\n",
        "from keras.applications import VGG16\n",
        "from keras.applications import DenseNet121\n",
        "import numpy as np\n",
        "import pandas as pd\n",
        "from matplotlib import pyplot as plt\n",
        "import os\n",
        "import time\n",
        "from numpy.linalg import inv, norm\n",
        "from keras import layers\n",
        "from keras import models\n",
        "\n",
        "\n",
        "np.set_printoptions(suppress=True, precision=3)\n",
        "from google.colab import drive\n",
        "drive.mount('/content/drive')\n",
        "os.chdir('/content/drive/MyDrive/extracted_files')\n",
        "save_dir = os.path.join(os.getcwd(), 'saved_models_VGG16validation')\n",
        "\n",
        "\n",
        "# Ορισμός των διαδραστικών φακέλων\n",
        "train_dir = '/content/drive/MyDrive/extracted_files/train_images'\n",
        "#test_dir = '/content/drive/MyDrive/extracted_test_files/covid19-pneumonia-normal-chest-xraypa-dataset/COVID19_Pneumonia_Normal_Chest_Xray_PA_Dataset/normal'\n",
        "#test_dir = '/content/drive/MyDrive/extracted_files2/train_images'\n",
        "test_dir = '/content/drive/MyDrive/extracted_files/test_images'\n",
        "# Διαβάζουμε το αρχείο csv\n",
        "import pandas as pd\n",
        "df = pd.read_csv('/content/drive/MyDrive/extracted_files/labels_train.csv')\n",
        "'''\n",
        "# Δημιουργήστε μια λίστα με τα ονόματα των αρχείων και τις ετικέτες\n",
        "file_names = df['file_name'].tolist()\n",
        "class_ids = df['class_id'].astype(str).tolist()  # Εξασφαλίστε ότι οι ετικέτες είναι σε μορφή string\n",
        "'''\n",
        "\n",
        "# Επιβεβαιώστε ότι οι ετικέτες είναι σε μορφή string\n",
        "df['class_id'] = df['class_id'].astype(str)\n",
        "\n"
      ],
      "metadata": {
        "id": "dZz2NZdCLgbI",
        "colab": {
          "base_uri": "https://localhost:8080/"
        },
        "outputId": "94caffc9-4721-41ca-9cc6-d0e74f6082e4"
      },
      "execution_count": null,
      "outputs": [
        {
          "output_type": "stream",
          "name": "stdout",
          "text": [
            "Mounted at /content/drive\n"
          ]
        }
      ]
    },
    {
      "cell_type": "code",
      "source": [
        "from google.colab import drive\n",
        "drive.mount('/content/drive')"
      ],
      "metadata": {
        "id": "-bw5zoODfsVO",
        "colab": {
          "base_uri": "https://localhost:8080/"
        },
        "outputId": "1727b917-1d4c-49d5-f85d-0790cde75312"
      },
      "execution_count": null,
      "outputs": [
        {
          "output_type": "stream",
          "name": "stdout",
          "text": [
            "Mounted at /content/drive\n"
          ]
        }
      ]
    },
    {
      "cell_type": "code",
      "source": [
        "import errno\n",
        "import pandas as pd\n",
        "from keras.applications import VGG16\n",
        "from keras import models\n",
        "from keras import layers\n",
        "from keras.optimizers import Adam\n",
        "from keras.preprocessing.image import ImageDataGenerator\n",
        "import os\n",
        "import numpy as np\n",
        "import pandas as pd\n",
        "from sklearn.metrics import accuracy_score\n",
        "\n",
        "# Συνάρτηση που ορίζει το ρυθμό μάθησης\n",
        "def lr_schedule(epoch):\n",
        "    lr = 1e-3\n",
        "    if epoch > 180:\n",
        "        lr *= 0.5e-3\n",
        "    elif epoch > 160:\n",
        "        lr *= 1e-3\n",
        "    elif epoch > 120:\n",
        "        lr *= 1e-2\n",
        "    elif epoch > 80:\n",
        "        lr *= 1e-1\n",
        "    return lr\n",
        "\n",
        "# Αντικαταστήστε με τη διαδρομή όπου θέλετε να αποθηκευτεί το αρχείο CSV\n",
        "csv_file_path = '/content/drive/MyDrive/extracted_files/predictions60.csv'\n",
        "\n",
        "# Δημιουργία DataFrame με τα ονόματα αρχείων και τις ετικέτες (αν υπάρχουν)\n",
        "# Το data frame πρέπει να έχει τις στήλες 'filename' και, αν υπάρχουν ετικέτες, 'label'\n",
        "# Εδώ υποθέτουμε πως δεν υπάρχουν ετικέτες.\n",
        "df_test = pd.DataFrame({'filename': os.listdir(test_dir)})\n",
        "\n",
        "# Δημιουργία γεννήτριας δεδομένων για τον φάκελο δοκιμής\n",
        "test_datagen = ImageDataGenerator(rescale=1./255,samplewise_std_normalization=True)\n",
        "test_generator = test_datagen.flow_from_dataframe(\n",
        "    dataframe=df_test,\n",
        "    directory=test_dir,\n",
        "    target_size=(224, 224),\n",
        "    batch_size=42,\n",
        "    class_mode=None,  # Δεν υπάρχουν ετικέτες για το σύνολο δοκιμής\n",
        "    shuffle=False  # Αφού θέλουμε να διατηρήσουμε τη σειρά των προβλέψεων\n",
        ")\n",
        "# Δημιουργία του μοντέλου VGG16\n",
        "base_model = VGG16(weights='imagenet', include_top=False, input_shape=(224, 224, 3))\n",
        "\n",
        "# Πάγωμα των βαρών του VGG16\n",
        "base_model.trainable = False\n",
        "\n",
        "model = models.Sequential()\n",
        "model.add(base_model)\n",
        "model.add(layers.Flatten())\n",
        "model.add(layers.Dense(256, activation='relu'))\n",
        "model.add(layers.Dense(256, activation='relu'))\n",
        "model.add(layers.Dropout(0.5))\n",
        "model.add(layers.Dense(3, activation='softmax'))  # 3 κλάσεις (πνευμονία, COVID, καθαρός πνεύμονας)\n",
        "\n",
        "# Σύνθεση του μοντέλου\n",
        "model.compile(optimizer=Adam(lr=lr_schedule(0)), loss='categorical_crossentropy', metrics=['accuracy'])\n",
        "\n",
        "#εδώ φορτώνουμε τα βάρη που έσωσε το αρχείο DenseNet.ipynd για να γίνει η αξιολόγηση του μοντέλου\n",
        "#/content/drive/MyDrive/extracted_files/saved_models_DenseNet121validation/DenseNet121-0030-loss0.346-accuracy0.855-val_accuracy0.820.h5\n",
        "model.load_weights('/content/drive/MyDrive/extracted_files/saved_models_VGG16validation/DenseNet121-ep0018-loss0.296-accuracy0.874-val_accuracy0.830.h5')#FORTWNW TO KALYTERO ARXEIO KAI OXI MONO\n",
        "\n",
        "# Προεπεξεργασία και πρόβλεψη των δεδομένων δοκιμής\n",
        "predictions = model.predict(test_generator, verbose=1)\n",
        "\n",
        "# Αποθήκευση των προβλέψεων σε ένα αρχείο CSV\n",
        "df_predictions = pd.DataFrame(predictions, columns=[f'feature_{i}' for i in range(predictions.shape[1])])\n",
        "df_predictions['file_name'] = test_generator.filenames\n",
        "df_predictions.to_csv(csv_file_path, index=False)\n",
        "df_predictions = pd.read_csv(csv_file_path)\n",
        "\n",
        "# Προσθήκη στήλης 'filename' από το generator\n",
        "df_predictions['file_name'] = test_generator.filenames\n",
        "\n",
        "# Προεπεξεργασία των προβλέψεων για να επιλέξετε την κύρια κλάση\n",
        "df_predictions['class_id'] = np.argmax(predictions, axis=1)\n",
        "\n",
        "# Διατήρηση μόνο των στηλών 'filename' και 'predicted_class'\n",
        "df_predictions = df_predictions[['file_name', 'class_id']]\n",
        "\n",
        "# Αποθήκευση των προβλέψεων σε ένα αρχείο CSV\n",
        "df_predictions.to_csv(csv_file_path, index=False)\n",
        "\n"
      ],
      "metadata": {
        "colab": {
          "base_uri": "https://localhost:8080/",
          "height": 178
        },
        "id": "E7TBhquk4SQX",
        "outputId": "e1bbc93f-3f01-4a01-b1e3-3170a129f4f8"
      },
      "execution_count": null,
      "outputs": [
        {
          "output_type": "stream",
          "name": "stderr",
          "text": [
            "/usr/local/lib/python3.10/dist-packages/keras/src/preprocessing/image.py:1469: UserWarning: This ImageDataGenerator specifies `samplewise_std_normalization`, which overrides setting of `samplewise_center`.\n",
            "  warnings.warn(\n"
          ]
        },
        {
          "output_type": "stream",
          "name": "stdout",
          "text": [
            "Found 1168 validated image filenames.\n"
          ]
        },
        {
          "output_type": "stream",
          "name": "stderr",
          "text": [
            "WARNING:absl:`lr` is deprecated in Keras optimizer, please use `learning_rate` or use the legacy optimizer, e.g.,tf.keras.optimizers.legacy.Adam.\n"
          ]
        },
        {
          "output_type": "stream",
          "name": "stdout",
          "text": [
            "28/28 [==============================] - 140s 5s/step\n"
          ]
        },
        {
          "output_type": "execute_result",
          "data": {
            "text/plain": [
              "'\\npercentage_by_class = df_predictions[\\'class_id\\'].value_counts(normalize=True) * 100\\n\\n# Εκτύπωση των αποτελεσμάτων\\nprint(\"Ποσοστό κάθε predicted_class:\")\\nprint(percentage_by_class)\\n# Διαβάστε τα CSV αρχεία\\ndf_predictions = pd.read_csv(\\'/content/drive/MyDrive/extracted_files2/predictions.csv\\')\\ndf_labels_train = pd.read_csv(\\'/content/drive/MyDrive/extracted_files2/labels_train.csv\\')\\n\\n# Συγχώνευση των δύο DataFrames με βάση τη στήλη \\'file_name\\'\\ndf_merged = pd.merge(df_predictions, df_labels_train, on=\\'file_name\\')\\n\\n# Υπολογισμός του ποσοστού συμφωνίας\\naccuracy = accuracy_score(df_merged[\\'class_id_x\\'], df_merged[\\'class_id_y\\']) * 100\\n\\n\\n# Εκτύπωση του ποσοστού συμφωνίας\\nprint(f\"Ποσοστό Συμφωνίας: {accuracy:.2f}%\")\\n'"
            ],
            "application/vnd.google.colaboratory.intrinsic+json": {
              "type": "string"
            }
          },
          "metadata": {},
          "execution_count": 6
        }
      ]
    }
  ]
}